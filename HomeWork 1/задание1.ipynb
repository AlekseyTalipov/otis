{
 "cells": [
  {
   "cell_type": "code",
   "execution_count": 1,
   "metadata": {
    "collapsed": true
   },
   "outputs": [],
   "source": [
    "import logging\n",
    "import requests"
   ]
  },
  {
   "cell_type": "code",
   "execution_count": 88,
   "metadata": {
    "collapsed": true
   },
   "outputs": [],
   "source": [
    "url = 'http://brokenstone.ru/supplyfileexport.aspx'\n",
    "loginURL='http://brokenstone.ru/account/login.aspx'"
   ]
  },
  {
   "cell_type": "code",
   "execution_count": 89,
   "metadata": {
    "collapsed": true
   },
   "outputs": [],
   "source": [
    "response = requests.get(loginURL)"
   ]
  },
  {
   "cell_type": "code",
   "execution_count": 40,
   "metadata": {},
   "outputs": [
    {
     "data": {
      "text/plain": [
       "<Response [200]>"
      ]
     },
     "execution_count": 40,
     "metadata": {},
     "output_type": "execute_result"
    }
   ],
   "source": [
    "response"
   ]
  },
  {
   "cell_type": "code",
   "execution_count": 41,
   "metadata": {},
   "outputs": [
    {
     "data": {
      "text/plain": [
       "'http://brokenstone.ru/account/login.aspx'"
      ]
     },
     "execution_count": 41,
     "metadata": {},
     "output_type": "execute_result"
    }
   ],
   "source": [
    "response.request.url"
   ]
  },
  {
   "cell_type": "code",
   "execution_count": 27,
   "metadata": {},
   "outputs": [],
   "source": [
    "import re\n",
    "from robobrowser import RoboBrowser"
   ]
  },
  {
   "cell_type": "code",
   "execution_count": 28,
   "metadata": {},
   "outputs": [],
   "source": [
    "q = RoboBrowser()"
   ]
  },
  {
   "cell_type": "code",
   "execution_count": 90,
   "metadata": {},
   "outputs": [],
   "source": [
    "q.open(loginURL)"
   ]
  },
  {
   "cell_type": "code",
   "execution_count": 91,
   "metadata": {},
   "outputs": [
    {
     "name": "stderr",
     "output_type": "stream",
     "text": [
      "C:\\Program Files\\Anaconda3\\lib\\site-packages\\bs4\\__init__.py:181: UserWarning: No parser was explicitly specified, so I'm using the best available HTML parser for this system (\"lxml\"). This usually isn't a problem, but if you run this code on another system, or in a different virtual environment, it may use a different parser and behave differently.\n",
      "\n",
      "The code that caused this warning is on line 193 of the file C:\\Program Files\\Anaconda3\\lib\\runpy.py. To get rid of this warning, change code that looks like this:\n",
      "\n",
      " BeautifulSoup(YOUR_MARKUP})\n",
      "\n",
      "to this:\n",
      "\n",
      " BeautifulSoup(YOUR_MARKUP, \"lxml\")\n",
      "\n",
      "  markup_type=markup_type))\n"
     ]
    }
   ],
   "source": [
    "loginForm=q.get_form()"
   ]
  },
  {
   "cell_type": "code",
   "execution_count": 96,
   "metadata": {},
   "outputs": [],
   "source": [
    "loginForm['ctl00$ctl00$ContentPanel$MainContent$LoginUserControl$LoginTextBox']='avtostrada'\n",
    "loginForm['ctl00$ctl00$ContentPanel$MainContent$LoginUserControl$PasswordTextBox']='5ed8f5'\n",
    "#q.submit_form(loginForm)"
   ]
  },
  {
   "cell_type": "code",
   "execution_count": 104,
   "metadata": {},
   "outputs": [],
   "source": [
    "login=q.find(id ='ctl00_ctl00_ContentPanel_MainContent_LoginUserControl_LoginTextBox')"
   ]
  },
  {
   "cell_type": "code",
   "execution_count": 108,
   "metadata": {},
   "outputs": [],
   "source": [
    "login.contents=''"
   ]
  },
  {
   "cell_type": "code",
   "execution_count": 114,
   "metadata": {},
   "outputs": [],
   "source": [
    "Pass=q.find(id ='ctl00_ctl00_ContentPanel_MainContent_LoginUserControl_PasswordTextBox')\n",
    "Pass.contents =''\n",
    "\n"
   ]
  },
  {
   "cell_type": "code",
   "execution_count": 118,
   "metadata": {},
   "outputs": [],
   "source": [
    "submitLogin=q.find(id='ctl00_ctl00_ContentPanel_MainContent_LoginUserControl_LoginButton')"
   ]
  },
  {
   "cell_type": "code",
   "execution_count": 123,
   "metadata": {},
   "outputs": [],
   "source": [
    "#q.open(submitLogin)"
   ]
  },
  {
   "cell_type": "code",
   "execution_count": 121,
   "metadata": {},
   "outputs": [
    {
     "data": {
      "text/plain": [
       "OrderedMultiDict([('__VIEWSTATE', <robobrowser.forms.fields.Input object at 0x0000014307041FD0>), ('__VIEWSTATEGENERATOR', <robobrowser.forms.fields.Input object at 0x0000014307041F98>), ('__EVENTVALIDATION', <robobrowser.forms.fields.Input object at 0x0000014307041F60>), ('ctl00$ctl00$ContentPanel$MainContent$LoginUserControl$LoginTextBox', <robobrowser.forms.fields.Input object at 0x0000014307041F28>), ('ctl00$ctl00$ContentPanel$MainContent$LoginUserControl$PasswordTextBox', <robobrowser.forms.fields.Input object at 0x0000014307041EB8>), ('ctl00$ctl00$ContentPanel$MainContent$LoginUserControl$RememberMe', <robobrowser.forms.fields.Checkbox object at 0x0000014307048710>), ('ctl00$ctl00$ModalSend1$SubjectTextBox', <robobrowser.forms.fields.Input object at 0x0000014307048860>), ('ctl00$ctl00$ModalSend1$TextTextBox', <robobrowser.forms.fields.Textarea object at 0x0000014307048898>), ('ctl00$ctl00$ModalSend1$FIOTextBox', <robobrowser.forms.fields.Input object at 0x00000143070488D0>), ('ctl00$ctl00$ModalSend1$EmailTextBox', <robobrowser.forms.fields.Input object at 0x0000014307048908>), ('ctl00$ctl00$ModalSend1$PhoneTextBox', <robobrowser.forms.fields.Input object at 0x0000014307048940>), ('ctl00$ctl00$ModalSend1$CaptchaControl1', <robobrowser.forms.fields.Input object at 0x0000014307048978>), ('ctl00$ctl00$ModalSend1$ButtonFilter', <robobrowser.forms.fields.Submit object at 0x00000143070489B0>), ('ctl00$ctl00$ModalReg1$LoginTextBox', <robobrowser.forms.fields.Input object at 0x00000143070489E8>), ('ctl00$ctl00$ModalReg1$EmailTextBox', <robobrowser.forms.fields.Input object at 0x0000014307048A20>), ('ctl00$ctl00$ModalReg1$ButtonFilter', <robobrowser.forms.fields.Submit object at 0x0000014307048A58>), ('ctl00$ctl00$ModalLogin1$LoginTextBox', <robobrowser.forms.fields.Input object at 0x0000014307048A90>), ('ctl00$ctl00$ModalLogin1$PasswordTextBox', <robobrowser.forms.fields.Input object at 0x0000014307048AC8>), ('ctl00$ctl00$ModalLogin1$RememberCheckBox', <robobrowser.forms.fields.Checkbox object at 0x0000014307048B00>), ('ctl00$ctl00$ModalLogin1$ButtonFilter', <robobrowser.forms.fields.Submit object at 0x0000014307048B38>), ('ctl00$ctl00$ModalForgot1$LoginTextBox', <robobrowser.forms.fields.Input object at 0x0000014307048B70>), ('ctl00$ctl00$ModalForgot1$EmailTextBox', <robobrowser.forms.fields.Input object at 0x0000014307048BA8>), ('ctl00$ctl00$ModalForgot1$ButtonFilter', <robobrowser.forms.fields.Submit object at 0x0000014307048BE0>)])"
      ]
     },
     "execution_count": 121,
     "metadata": {},
     "output_type": "execute_result"
    }
   ],
   "source": [
    "loginForm.fields"
   ]
  },
  {
   "cell_type": "code",
   "execution_count": 124,
   "metadata": {},
   "outputs": [],
   "source": [
    "loginForm['ctl00$ctl00$ModalLogin1$PasswordTextBox'].value=''"
   ]
  },
  {
   "cell_type": "code",
   "execution_count": 143,
   "metadata": {
    "collapsed": true
   },
   "outputs": [],
   "source": [
    "loginForm['ctl00$ctl00$ModalForgot1$LoginTextBox'].value='"
   ]
  },
  {
   "cell_type": "code",
   "execution_count": 142,
   "metadata": {},
   "outputs": [
    {
     "ename": "InvalidSubmitError",
     "evalue": "",
     "output_type": "error",
     "traceback": [
      "\u001b[1;31m---------------------------------------------------------------------------\u001b[0m",
      "\u001b[1;31mInvalidSubmitError\u001b[0m                        Traceback (most recent call last)",
      "\u001b[1;32m<ipython-input-142-0efb9e9366c9>\u001b[0m in \u001b[0;36m<module>\u001b[1;34m()\u001b[0m\n\u001b[1;32m----> 1\u001b[1;33m \u001b[0mq\u001b[0m\u001b[1;33m.\u001b[0m\u001b[0msubmit_form\u001b[0m\u001b[1;33m(\u001b[0m\u001b[0mloginForm\u001b[0m\u001b[1;33m)\u001b[0m\u001b[1;33m\u001b[0m\u001b[0m\n\u001b[0m",
      "\u001b[1;32mC:\\Program Files\\Anaconda3\\lib\\site-packages\\robobrowser\\browser.py\u001b[0m in \u001b[0;36msubmit_form\u001b[1;34m(self, form, submit, **kwargs)\u001b[0m\n\u001b[0;32m    337\u001b[0m         \u001b[1;31m# Send request\u001b[0m\u001b[1;33m\u001b[0m\u001b[1;33m\u001b[0m\u001b[0m\n\u001b[0;32m    338\u001b[0m         \u001b[0murl\u001b[0m \u001b[1;33m=\u001b[0m \u001b[0mself\u001b[0m\u001b[1;33m.\u001b[0m\u001b[0m_build_url\u001b[0m\u001b[1;33m(\u001b[0m\u001b[0mform\u001b[0m\u001b[1;33m.\u001b[0m\u001b[0maction\u001b[0m\u001b[1;33m)\u001b[0m \u001b[1;32mor\u001b[0m \u001b[0mself\u001b[0m\u001b[1;33m.\u001b[0m\u001b[0murl\u001b[0m\u001b[1;33m\u001b[0m\u001b[0m\n\u001b[1;32m--> 339\u001b[1;33m         \u001b[0mpayload\u001b[0m \u001b[1;33m=\u001b[0m \u001b[0mform\u001b[0m\u001b[1;33m.\u001b[0m\u001b[0mserialize\u001b[0m\u001b[1;33m(\u001b[0m\u001b[0msubmit\u001b[0m\u001b[1;33m=\u001b[0m\u001b[0msubmit\u001b[0m\u001b[1;33m)\u001b[0m\u001b[1;33m\u001b[0m\u001b[0m\n\u001b[0m\u001b[0;32m    340\u001b[0m         \u001b[0mserialized\u001b[0m \u001b[1;33m=\u001b[0m \u001b[0mpayload\u001b[0m\u001b[1;33m.\u001b[0m\u001b[0mto_requests\u001b[0m\u001b[1;33m(\u001b[0m\u001b[0mmethod\u001b[0m\u001b[1;33m)\u001b[0m\u001b[1;33m\u001b[0m\u001b[0m\n\u001b[0;32m    341\u001b[0m         \u001b[0msend_args\u001b[0m \u001b[1;33m=\u001b[0m \u001b[0mself\u001b[0m\u001b[1;33m.\u001b[0m\u001b[0m_build_send_args\u001b[0m\u001b[1;33m(\u001b[0m\u001b[1;33m**\u001b[0m\u001b[0mkwargs\u001b[0m\u001b[1;33m)\u001b[0m\u001b[1;33m\u001b[0m\u001b[0m\n",
      "\u001b[1;32mC:\\Program Files\\Anaconda3\\lib\\site-packages\\robobrowser\\forms\\form.py\u001b[0m in \u001b[0;36mserialize\u001b[1;34m(self, submit)\u001b[0m\n\u001b[0;32m    224\u001b[0m \u001b[1;33m\u001b[0m\u001b[0m\n\u001b[0;32m    225\u001b[0m         \"\"\"\n\u001b[1;32m--> 226\u001b[1;33m         \u001b[0minclude_fields\u001b[0m \u001b[1;33m=\u001b[0m \u001b[0mprepare_fields\u001b[0m\u001b[1;33m(\u001b[0m\u001b[0mself\u001b[0m\u001b[1;33m.\u001b[0m\u001b[0mfields\u001b[0m\u001b[1;33m,\u001b[0m \u001b[0mself\u001b[0m\u001b[1;33m.\u001b[0m\u001b[0msubmit_fields\u001b[0m\u001b[1;33m,\u001b[0m \u001b[0msubmit\u001b[0m\u001b[1;33m)\u001b[0m\u001b[1;33m\u001b[0m\u001b[0m\n\u001b[0m\u001b[0;32m    227\u001b[0m         \u001b[1;32mreturn\u001b[0m \u001b[0mPayload\u001b[0m\u001b[1;33m.\u001b[0m\u001b[0mfrom_fields\u001b[0m\u001b[1;33m(\u001b[0m\u001b[0minclude_fields\u001b[0m\u001b[1;33m)\u001b[0m\u001b[1;33m\u001b[0m\u001b[0m\n",
      "\u001b[1;32mC:\\Program Files\\Anaconda3\\lib\\site-packages\\robobrowser\\forms\\form.py\u001b[0m in \u001b[0;36mprepare_fields\u001b[1;34m(all_fields, submit_fields, submit)\u001b[0m\n\u001b[0;32m    152\u001b[0m     \u001b[1;32mif\u001b[0m \u001b[0mlen\u001b[0m\u001b[1;33m(\u001b[0m\u001b[0mlist\u001b[0m\u001b[1;33m(\u001b[0m\u001b[0msubmit_fields\u001b[0m\u001b[1;33m.\u001b[0m\u001b[0mitems\u001b[0m\u001b[1;33m(\u001b[0m\u001b[0mmulti\u001b[0m\u001b[1;33m=\u001b[0m\u001b[1;32mTrue\u001b[0m\u001b[1;33m)\u001b[0m\u001b[1;33m)\u001b[0m\u001b[1;33m)\u001b[0m \u001b[1;33m>\u001b[0m \u001b[1;36m1\u001b[0m\u001b[1;33m:\u001b[0m\u001b[1;33m\u001b[0m\u001b[0m\n\u001b[0;32m    153\u001b[0m         \u001b[1;32mif\u001b[0m \u001b[1;32mnot\u001b[0m \u001b[0msubmit\u001b[0m\u001b[1;33m:\u001b[0m\u001b[1;33m\u001b[0m\u001b[0m\n\u001b[1;32m--> 154\u001b[1;33m             \u001b[1;32mraise\u001b[0m \u001b[0mexceptions\u001b[0m\u001b[1;33m.\u001b[0m\u001b[0mInvalidSubmitError\u001b[0m\u001b[1;33m(\u001b[0m\u001b[1;33m)\u001b[0m\u001b[1;33m\u001b[0m\u001b[0m\n\u001b[0m\u001b[0;32m    155\u001b[0m         \u001b[1;32mif\u001b[0m \u001b[0msubmit\u001b[0m \u001b[1;32mnot\u001b[0m \u001b[1;32min\u001b[0m \u001b[0msubmit_fields\u001b[0m\u001b[1;33m.\u001b[0m\u001b[0mgetlist\u001b[0m\u001b[1;33m(\u001b[0m\u001b[0msubmit\u001b[0m\u001b[1;33m.\u001b[0m\u001b[0mname\u001b[0m\u001b[1;33m)\u001b[0m\u001b[1;33m:\u001b[0m\u001b[1;33m\u001b[0m\u001b[0m\n\u001b[0;32m    156\u001b[0m             \u001b[1;32mraise\u001b[0m \u001b[0mexceptions\u001b[0m\u001b[1;33m.\u001b[0m\u001b[0mInvalidSubmitError\u001b[0m\u001b[1;33m(\u001b[0m\u001b[1;33m)\u001b[0m\u001b[1;33m\u001b[0m\u001b[0m\n",
      "\u001b[1;31mInvalidSubmitError\u001b[0m: "
     ]
    }
   ],
   "source": [
    "q.submit_form(loginForm)"
   ]
  },
  {
   "cell_type": "code",
   "execution_count": 141,
   "metadata": {},
   "outputs": [
    {
     "name": "stdout",
     "output_type": "stream",
     "text": [
      "<robobrowser.forms.fields.Submit object at 0x0000014307048BE0>\n"
     ]
    }
   ],
   "source": [
    "print (loginForm.submit_fields.get('ctl00$ctl00$ModalForgot1$ButtonFilter'))"
   ]
  },
  {
   "cell_type": "code",
   "execution_count": null,
   "metadata": {
    "collapsed": true
   },
   "outputs": [],
   "source": []
  }
 ],
 "metadata": {
  "kernelspec": {
   "display_name": "Python 3",
   "language": "python",
   "name": "python3"
  },
  "language_info": {
   "codemirror_mode": {
    "name": "ipython",
    "version": 3
   },
   "file_extension": ".py",
   "mimetype": "text/x-python",
   "name": "python",
   "nbconvert_exporter": "python",
   "pygments_lexer": "ipython3",
   "version": "3.6.1"
  }
 },
 "nbformat": 4,
 "nbformat_minor": 2
}
